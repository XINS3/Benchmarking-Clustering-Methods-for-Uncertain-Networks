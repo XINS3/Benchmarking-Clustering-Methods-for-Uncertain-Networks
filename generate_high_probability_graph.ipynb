{
 "cells": [
  {
   "cell_type": "code",
   "execution_count": 5,
   "id": "205b8422",
   "metadata": {},
   "outputs": [],
   "source": [
    "\n",
    "from Expected_mod import Trans_C1, APWP, Trans_C2\n",
    "import pKwikCluster as pkwik \n",
    "import Expected_mod as ex \n",
    "import load_graph\n",
    "import importlib\n",
    "import time\n",
    "import networkx as nx \n",
    "import pandas as pd \n",
    "import json\n",
    "import bz2\n",
    "import os\n",
    "from tkinter import Tcl\n",
    "from os import listdir\n",
    "import networkx as nx\n",
    "import random"
   ]
  },
  {
   "cell_type": "markdown",
   "id": "f759e087",
   "metadata": {},
   "source": [
    "## the high prob. is following uniform distribution from 0.9 to 1.\n",
    "## the graphs are compared to low prob. , so I will keep the same graph structure, just shuffle the prob."
   ]
  },
  {
   "cell_type": "code",
   "execution_count": 10,
   "id": "96bd885f",
   "metadata": {},
   "outputs": [],
   "source": [
    "path2='//Users//xinsh758//Documents//academic//evaluation//Evaluation//datasets//l10_p0.3_evolving_lowP1//'\n",
    "path='//Users//xinsh758//Documents//academic//evaluation//Evaluation//datasets//l10_p0.3_evolving_highP1//'\n",
    "filelists=[i for i in os.listdir(path2)]\n",
    "filelists=Tcl().call('lsort','-dict',filelists)\n",
    "\n",
    "for file in filelists:\n",
    "    if file[-4:] =='.txt':\n",
    "        file_list=file.split('_')\n",
    "       \n",
    "        k=[i for i in file_list if i[0]=='k'][0][1:]\n",
    "        l=[i for i in file_list if i[0]=='l'][0][1:]\n",
    "   \n",
    "        g=load_graph.read_g(path2+file)\n",
    "        P=[random.uniform(0.9,1) for i in range(len(g.edges))]\n",
    "        random.shuffle(P)\n",
    "        graph=nx.Graph()\n",
    "        wei=[]\n",
    "        for i in range(len(g.edges)):\n",
    "            tem=[]\n",
    "            tem.append(list(g.edges)[i][0])\n",
    "            tem.append(list(g.edges)[i][1])\n",
    "            tem.append(P[i])\n",
    "            wei.append(tem)\n",
    "        graph.add_weighted_edges_from(wei)\n",
    "        load_graph.loading_g(k,l,0.3,graph,path+file)\n",
    "    \n",
    "            \n",
    "       \n",
    "        "
   ]
  },
  {
   "cell_type": "code",
   "execution_count": null,
   "id": "cffa916a",
   "metadata": {},
   "outputs": [],
   "source": []
  }
 ],
 "metadata": {
  "kernelspec": {
   "display_name": "base",
   "language": "python",
   "name": "python3"
  },
  "language_info": {
   "codemirror_mode": {
    "name": "ipython",
    "version": 3
   },
   "file_extension": ".py",
   "mimetype": "text/x-python",
   "name": "python",
   "nbconvert_exporter": "python",
   "pygments_lexer": "ipython3",
   "version": "3.9.13"
  }
 },
 "nbformat": 4,
 "nbformat_minor": 5
}
